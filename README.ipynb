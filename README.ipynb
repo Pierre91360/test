{
 "cells": [
  {
   "cell_type": "markdown",
   "metadata": {},
   "source": [
    "# The Godfather returns"
   ]
  },
  {
   "cell_type": "markdown",
   "metadata": {},
   "source": [
    "## Introduction\n",
    "\n",
    "The Godfather returns is a multi-class classification data set formatted in the AutoML format."
   ]
  },
  {
   "cell_type": "code",
   "execution_count": 1,
   "metadata": {
    "collapsed": false
   },
   "outputs": [],
   "source": [
    "codedir = 'sample_code/'                        # Change this to the directory where you put the code\n",
    "from sys import path; path.append(codedir)\n",
    "%matplotlib inline\n",
    "import seaborn as sns; sns.set()\n",
    "import matplotlib.pyplot as plt"
   ]
  },
  {
   "cell_type": "markdown",
   "metadata": {},
   "source": [
    "## Fetch the data and load it"
   ]
  },
  {
   "cell_type": "code",
   "execution_count": 2,
   "metadata": {
    "collapsed": false
   },
   "outputs": [
    {
     "name": "stdout",
     "output_type": "stream",
     "text": [
      "public_data/crime_feat.name   public_data/crime_train.data\r\n",
      "public_data/crime_label.name  public_data/crime_train.solution\r\n",
      "public_data/crime_test.data   public_data/crime_valid.data\r\n"
     ]
    }
   ],
   "source": [
    "datadir = 'public_data/'                        # Change this to the directory where you put the input data\n",
    "dataname = 'crime'\n",
    "basename = datadir  + dataname\n",
    "!ls $basename*"
   ]
  },
  {
   "cell_type": "code",
   "execution_count": 3,
   "metadata": {
    "collapsed": false
   },
   "outputs": [
    {
     "name": "stdout",
     "output_type": "stream",
     "text": [
      "Reading public_data/crime_train from AutoML format\n",
      "Number of examples = 60916\n",
      "Number of features = 11\n",
      "Number of classes = 6\n"
     ]
    }
   ],
   "source": [
    "import data_io\n",
    "from imp import reload\n",
    "reload(data_io)\n",
    "data = data_io.read_as_df(basename)                          # The data are loaded as a Pandas Data Frame\n",
    "#data.to_csv(basename + '_train.csv', index=False)           # This allows saving the data in csv format"
   ]
  },
  {
   "cell_type": "code",
   "execution_count": 4,
   "metadata": {
    "collapsed": false
   },
   "outputs": [
    {
     "data": {
      "text/html": [
       "<div>\n",
       "<table border=\"1\" class=\"dataframe\">\n",
       "  <thead>\n",
       "    <tr style=\"text-align: right;\">\n",
       "      <th></th>\n",
       "      <th>Year</th>\n",
       "      <th>Month</th>\n",
       "      <th>Day</th>\n",
       "      <th>DayOfWeek</th>\n",
       "      <th>Minute</th>\n",
       "      <th>Hour</th>\n",
       "      <th>X</th>\n",
       "      <th>Y</th>\n",
       "      <th>PdDistrict</th>\n",
       "      <th>Address</th>\n",
       "      <th>Resolution</th>\n",
       "      <th>target</th>\n",
       "    </tr>\n",
       "  </thead>\n",
       "  <tbody>\n",
       "    <tr>\n",
       "      <th>0</th>\n",
       "      <td>4.0</td>\n",
       "      <td>12.0</td>\n",
       "      <td>30.0</td>\n",
       "      <td>6.0</td>\n",
       "      <td>0.0</td>\n",
       "      <td>21.0</td>\n",
       "      <td>-0.800143</td>\n",
       "      <td>0.016993</td>\n",
       "      <td>1.0</td>\n",
       "      <td>0.0</td>\n",
       "      <td>0.0</td>\n",
       "      <td>LARCENY/THEFT</td>\n",
       "    </tr>\n",
       "    <tr>\n",
       "      <th>1</th>\n",
       "      <td>5.0</td>\n",
       "      <td>5.0</td>\n",
       "      <td>31.0</td>\n",
       "      <td>5.0</td>\n",
       "      <td>15.0</td>\n",
       "      <td>12.0</td>\n",
       "      <td>-1.301228</td>\n",
       "      <td>0.005119</td>\n",
       "      <td>4.0</td>\n",
       "      <td>0.0</td>\n",
       "      <td>1.0</td>\n",
       "      <td>VEHICLE THEFT</td>\n",
       "    </tr>\n",
       "    <tr>\n",
       "      <th>2</th>\n",
       "      <td>11.0</td>\n",
       "      <td>6.0</td>\n",
       "      <td>11.0</td>\n",
       "      <td>2.0</td>\n",
       "      <td>0.0</td>\n",
       "      <td>13.0</td>\n",
       "      <td>0.234014</td>\n",
       "      <td>0.012017</td>\n",
       "      <td>6.0</td>\n",
       "      <td>1.0</td>\n",
       "      <td>0.0</td>\n",
       "      <td>DRUG/NARCOTIC</td>\n",
       "    </tr>\n",
       "    <tr>\n",
       "      <th>3</th>\n",
       "      <td>11.0</td>\n",
       "      <td>8.0</td>\n",
       "      <td>4.0</td>\n",
       "      <td>0.0</td>\n",
       "      <td>15.0</td>\n",
       "      <td>18.0</td>\n",
       "      <td>0.221519</td>\n",
       "      <td>0.015796</td>\n",
       "      <td>6.0</td>\n",
       "      <td>1.0</td>\n",
       "      <td>1.0</td>\n",
       "      <td>LARCENY/THEFT</td>\n",
       "    </tr>\n",
       "    <tr>\n",
       "      <th>4</th>\n",
       "      <td>6.0</td>\n",
       "      <td>5.0</td>\n",
       "      <td>30.0</td>\n",
       "      <td>5.0</td>\n",
       "      <td>30.0</td>\n",
       "      <td>13.0</td>\n",
       "      <td>1.099286</td>\n",
       "      <td>0.026409</td>\n",
       "      <td>8.0</td>\n",
       "      <td>1.0</td>\n",
       "      <td>1.0</td>\n",
       "      <td>LARCENY/THEFT</td>\n",
       "    </tr>\n",
       "  </tbody>\n",
       "</table>\n",
       "</div>"
      ],
      "text/plain": [
       "   Year  Month   Day  DayOfWeek  Minute  Hour         X         Y  PdDistrict  \\\n",
       "0   4.0   12.0  30.0        6.0     0.0  21.0 -0.800143  0.016993         1.0   \n",
       "1   5.0    5.0  31.0        5.0    15.0  12.0 -1.301228  0.005119         4.0   \n",
       "2  11.0    6.0  11.0        2.0     0.0  13.0  0.234014  0.012017         6.0   \n",
       "3  11.0    8.0   4.0        0.0    15.0  18.0  0.221519  0.015796         6.0   \n",
       "4   6.0    5.0  30.0        5.0    30.0  13.0  1.099286  0.026409         8.0   \n",
       "\n",
       "   Address  Resolution         target  \n",
       "0      0.0         0.0  LARCENY/THEFT  \n",
       "1      0.0         1.0  VEHICLE THEFT  \n",
       "2      1.0         0.0  DRUG/NARCOTIC  \n",
       "3      1.0         1.0  LARCENY/THEFT  \n",
       "4      1.0         1.0  LARCENY/THEFT  "
      ]
     },
     "execution_count": 4,
     "metadata": {},
     "output_type": "execute_result"
    }
   ],
   "source": [
    "data.head()"
   ]
  },
  {
   "cell_type": "code",
   "execution_count": 5,
   "metadata": {
    "collapsed": false,
    "scrolled": true
   },
   "outputs": [
    {
     "data": {
      "text/html": [
       "<div>\n",
       "<table border=\"1\" class=\"dataframe\">\n",
       "  <thead>\n",
       "    <tr style=\"text-align: right;\">\n",
       "      <th></th>\n",
       "      <th>Year</th>\n",
       "      <th>Month</th>\n",
       "      <th>Day</th>\n",
       "      <th>DayOfWeek</th>\n",
       "      <th>Minute</th>\n",
       "      <th>Hour</th>\n",
       "      <th>X</th>\n",
       "      <th>Y</th>\n",
       "      <th>PdDistrict</th>\n",
       "      <th>Address</th>\n",
       "      <th>Resolution</th>\n",
       "    </tr>\n",
       "  </thead>\n",
       "  <tbody>\n",
       "    <tr>\n",
       "      <th>count</th>\n",
       "      <td>60916.000000</td>\n",
       "      <td>60916.000000</td>\n",
       "      <td>60916.000000</td>\n",
       "      <td>60916.000000</td>\n",
       "      <td>60916.000000</td>\n",
       "      <td>60916.000000</td>\n",
       "      <td>60916.000000</td>\n",
       "      <td>60916.000000</td>\n",
       "      <td>60916.000000</td>\n",
       "      <td>60916.000000</td>\n",
       "      <td>60916.000000</td>\n",
       "    </tr>\n",
       "    <tr>\n",
       "      <th>mean</th>\n",
       "      <td>5.616324</td>\n",
       "      <td>6.450489</td>\n",
       "      <td>15.688817</td>\n",
       "      <td>2.986719</td>\n",
       "      <td>18.902899</td>\n",
       "      <td>14.197354</td>\n",
       "      <td>0.003073</td>\n",
       "      <td>0.007797</td>\n",
       "      <td>5.004777</td>\n",
       "      <td>0.330603</td>\n",
       "      <td>1.179444</td>\n",
       "    </tr>\n",
       "    <tr>\n",
       "      <th>std</th>\n",
       "      <td>3.687726</td>\n",
       "      <td>3.444225</td>\n",
       "      <td>8.729051</td>\n",
       "      <td>1.958757</td>\n",
       "      <td>18.405154</td>\n",
       "      <td>6.231125</td>\n",
       "      <td>1.139663</td>\n",
       "      <td>1.355121</td>\n",
       "      <td>3.089689</td>\n",
       "      <td>0.470434</td>\n",
       "      <td>1.773405</td>\n",
       "    </tr>\n",
       "    <tr>\n",
       "      <th>min</th>\n",
       "      <td>0.000000</td>\n",
       "      <td>1.000000</td>\n",
       "      <td>1.000000</td>\n",
       "      <td>0.000000</td>\n",
       "      <td>0.000000</td>\n",
       "      <td>0.000000</td>\n",
       "      <td>-3.001771</td>\n",
       "      <td>-0.133434</td>\n",
       "      <td>0.000000</td>\n",
       "      <td>0.000000</td>\n",
       "      <td>0.000000</td>\n",
       "    </tr>\n",
       "    <tr>\n",
       "      <th>25%</th>\n",
       "      <td>2.000000</td>\n",
       "      <td>3.000000</td>\n",
       "      <td>8.000000</td>\n",
       "      <td>1.000000</td>\n",
       "      <td>0.000000</td>\n",
       "      <td>10.000000</td>\n",
       "      <td>-0.315743</td>\n",
       "      <td>-0.033782</td>\n",
       "      <td>2.000000</td>\n",
       "      <td>0.000000</td>\n",
       "      <td>0.000000</td>\n",
       "    </tr>\n",
       "    <tr>\n",
       "      <th>50%</th>\n",
       "      <td>6.000000</td>\n",
       "      <td>6.000000</td>\n",
       "      <td>16.000000</td>\n",
       "      <td>3.000000</td>\n",
       "      <td>15.000000</td>\n",
       "      <td>15.000000</td>\n",
       "      <td>0.197800</td>\n",
       "      <td>0.004316</td>\n",
       "      <td>5.000000</td>\n",
       "      <td>0.000000</td>\n",
       "      <td>1.000000</td>\n",
       "    </tr>\n",
       "    <tr>\n",
       "      <th>75%</th>\n",
       "      <td>9.000000</td>\n",
       "      <td>10.000000</td>\n",
       "      <td>23.000000</td>\n",
       "      <td>5.000000</td>\n",
       "      <td>30.000000</td>\n",
       "      <td>19.000000</td>\n",
       "      <td>0.491827</td>\n",
       "      <td>0.022567</td>\n",
       "      <td>8.000000</td>\n",
       "      <td>1.000000</td>\n",
       "      <td>1.000000</td>\n",
       "    </tr>\n",
       "    <tr>\n",
       "      <th>max</th>\n",
       "      <td>12.000000</td>\n",
       "      <td>12.000000</td>\n",
       "      <td>31.000000</td>\n",
       "      <td>6.000000</td>\n",
       "      <td>59.000000</td>\n",
       "      <td>23.000000</td>\n",
       "      <td>63.138036</td>\n",
       "      <td>105.699962</td>\n",
       "      <td>9.000000</td>\n",
       "      <td>1.000000</td>\n",
       "      <td>16.000000</td>\n",
       "    </tr>\n",
       "  </tbody>\n",
       "</table>\n",
       "</div>"
      ],
      "text/plain": [
       "               Year         Month           Day     DayOfWeek        Minute  \\\n",
       "count  60916.000000  60916.000000  60916.000000  60916.000000  60916.000000   \n",
       "mean       5.616324      6.450489     15.688817      2.986719     18.902899   \n",
       "std        3.687726      3.444225      8.729051      1.958757     18.405154   \n",
       "min        0.000000      1.000000      1.000000      0.000000      0.000000   \n",
       "25%        2.000000      3.000000      8.000000      1.000000      0.000000   \n",
       "50%        6.000000      6.000000     16.000000      3.000000     15.000000   \n",
       "75%        9.000000     10.000000     23.000000      5.000000     30.000000   \n",
       "max       12.000000     12.000000     31.000000      6.000000     59.000000   \n",
       "\n",
       "               Hour             X             Y    PdDistrict       Address  \\\n",
       "count  60916.000000  60916.000000  60916.000000  60916.000000  60916.000000   \n",
       "mean      14.197354      0.003073      0.007797      5.004777      0.330603   \n",
       "std        6.231125      1.139663      1.355121      3.089689      0.470434   \n",
       "min        0.000000     -3.001771     -0.133434      0.000000      0.000000   \n",
       "25%       10.000000     -0.315743     -0.033782      2.000000      0.000000   \n",
       "50%       15.000000      0.197800      0.004316      5.000000      0.000000   \n",
       "75%       19.000000      0.491827      0.022567      8.000000      1.000000   \n",
       "max       23.000000     63.138036    105.699962      9.000000      1.000000   \n",
       "\n",
       "         Resolution  \n",
       "count  60916.000000  \n",
       "mean       1.179444  \n",
       "std        1.773405  \n",
       "min        0.000000  \n",
       "25%        0.000000  \n",
       "50%        1.000000  \n",
       "75%        1.000000  \n",
       "max       16.000000  "
      ]
     },
     "execution_count": 5,
     "metadata": {},
     "output_type": "execute_result"
    }
   ],
   "source": [
    "data.describe() "
   ]
  },
  {
   "cell_type": "code",
   "execution_count": 6,
   "metadata": {
    "collapsed": false
   },
   "outputs": [],
   "source": [
    "categories = data.groupby('target')"
   ]
  },
  {
   "cell_type": "code",
   "execution_count": 7,
   "metadata": {
    "collapsed": false
   },
   "outputs": [],
   "source": [
    "numbers = []\n",
    "cat_names = []\n",
    "for gp in categories.groups:\n",
    "    cat_names.append(gp)\n",
    "    nb =  len(categories.get_group(gp))\n",
    "    numbers.append(nb)"
   ]
  },
  {
   "cell_type": "code",
   "execution_count": 8,
   "metadata": {
    "collapsed": false
   },
   "outputs": [
    {
     "data": {
      "image/png": "[encoded data removed]",
      "text/plain": [
       "<matplotlib.figure.Figure at 0xac9d83ac>"
      ]
     },
     "metadata": {},
     "output_type": "display_data"
    }
   ],
   "source": [
    "import numpy as np\n",
    "plt.figure(figsize=(20,10))\n",
    "plt.bar(np.arange(len(numbers)), numbers,align=\"center\",alpha=.5)\n",
    "plt.title('Crime numbers for each crime category')\n",
    "plt.xticks(range(len(numbers)), cat_names,rotation=90,fontsize=10)\n",
    "plt.show()"
   ]
  },
  {
   "cell_type": "code",
   "execution_count": 9,
   "metadata": {
    "collapsed": false
   },
   "outputs": [
    {
     "name": "stdout",
     "output_type": "stream",
     "text": [
      "['VEHICLE THEFT', 'WARRANTS', 'PROSTITUTION', 'DRUG/NARCOTIC', 'LARCENY/THEFT', 'MISSING PERSON']\n"
     ]
    }
   ],
   "source": [
    "print (cat_names)"
   ]
  },
  {
   "cell_type": "code",
   "execution_count": 10,
   "metadata": {
    "collapsed": false
   },
   "outputs": [],
   "source": [
    "years = data.groupby('Year')\n",
    "months = data.groupby('Month')\n",
    "days = data.groupby('Day')\n",
    "weeks = data.groupby('DayOfWeek')\n",
    "hours = data.groupby('Hour')"
   ]
  },
  {
   "cell_type": "code",
   "execution_count": 11,
   "metadata": {
    "collapsed": false
   },
   "outputs": [],
   "source": [
    "year = []\n",
    "num_year = []\n",
    "month = []\n",
    "num_months = []\n",
    "day =  []\n",
    "num_days = []\n",
    "week = []\n",
    "num_weeks  = []\n",
    "hour = []\n",
    "num_hours = []\n",
    "for gr in years.groups:\n",
    "    year.append(int(gr)+2000)\n",
    "    num_year.append(len(years.get_group(gr)))\n",
    "for gr in months.groups:\n",
    "    month.append(gr)\n",
    "    num_months.append(len(months.get_group(gr)))\n",
    "for gr in days.groups:\n",
    "    day.append(gr)\n",
    "    num_days.append(len(days.get_group(gr)))\n",
    "for gr in weeks.groups:\n",
    "    week.append(gr)\n",
    "    num_weeks.append(len(weeks.get_group(gr)))\n",
    "for gr in hours.groups:\n",
    "    hour.append(int(gr)+2000)\n",
    "    num_hours.append(len(hours.get_group(gr)))"
   ]
  },
  {
   "cell_type": "code",
   "execution_count": 12,
   "metadata": {
    "collapsed": false
   },
   "outputs": [
    {
     "data": {
      "image/png": "[encoded data removed]",
      "text/plain": [
       "<matplotlib.figure.Figure at 0xac01e10c>"
      ]
     },
     "metadata": {},
     "output_type": "display_data"
    },
    {
     "data": {
      "image/png": "[encoded data removed]",
      "text/plain": [
       "<matplotlib.figure.Figure at 0xac025d0c>"
      ]
     },
     "metadata": {},
     "output_type": "display_data"
    },
    {
     "data": {
      "image/png": "[encoded data removed]",
      "text/plain": [
       "<matplotlib.figure.Figure at 0xabfada2c>"
      ]
     },
     "metadata": {},
     "output_type": "display_data"
    },
    {
     "data": {
      "image/png": "[encoded data removed]",
      "text/plain": [
       "<matplotlib.figure.Figure at 0xacfaff4c>"
      ]
     },
     "metadata": {},
     "output_type": "display_data"
    },
    {
     "data": {
      "image/png": "[encoded data removed]",
      "text/plain": [
       "<matplotlib.figure.Figure at 0xac8568ec>"
      ]
     },
     "metadata": {},
     "output_type": "display_data"
    }
   ],
   "source": [
    "plt.figure(figsize=(20,10))\n",
    "plt.bar(np.arange(len(num_year)), num_year,align=\"center\",alpha=.5)\n",
    "plt.title('crime numbers from 2000 to 2012')\n",
    "plt.xticks(range(len(num_year)), year,rotation=90,fontsize=10)\n",
    "plt.show()\n",
    "\n",
    "plt.figure(figsize=(20,10))\n",
    "plt.bar(np.arange(len(num_months)), num_months,align=\"center\",alpha=.5)\n",
    "plt.title('crime numbers of each month')\n",
    "plt.xticks(range(len(num_months)), month, rotation=90,fontsize=10)\n",
    "plt.show()\n",
    "\n",
    "plt.figure(figsize=(20,10))\n",
    "plt.bar(np.arange(len(num_days)), num_days,align=\"center\",alpha=.5)\n",
    "plt.title('crime numbers of each day in months')\n",
    "plt.xticks(range(len(num_days)), day, rotation=90,fontsize=10)\n",
    "plt.show()\n",
    "\n",
    "plt.figure(figsize=(20,10))\n",
    "plt.bar(np.arange(len(num_weeks)), num_weeks,align=\"center\",alpha=.5)\n",
    "plt.title('crime numbers of each in weeks')\n",
    "plt.xticks(range(len(num_weeks)), week,rotation=90,fontsize=10)\n",
    "plt.show()\n",
    "\n",
    "plt.figure(figsize=(20,10))\n",
    "plt.bar(np.arange(len(num_hours)), num_hours,align=\"center\",alpha=.5)\n",
    "plt.title('crime numbers of each hour in days')\n",
    "plt.xticks(range(len(num_hours)), hour,rotation=90,fontsize=10)\n",
    "plt.show()"
   ]
  },
  {
   "cell_type": "markdown",
   "metadata": {},
   "source": [
    "## Building a predictive model"
   ]
  },
  {
   "cell_type": "markdown",
   "metadata": {},
   "source": [
    "Data matrices for training and making predictions."
   ]
  },
  {
   "cell_type": "code",
   "execution_count": 13,
   "metadata": {
    "collapsed": false
   },
   "outputs": [
    {
     "name": "stdout",
     "output_type": "stream",
     "text": [
      "('Dimensions X_train=', (60916, 11), 'y_train=', (60916,))\n",
      "Reading public_data/crime_valid from AutoML format\n",
      "Number of examples = 3583\n",
      "Number of features = 11\n",
      "Reading public_data/crime_test from AutoML format\n",
      "Number of examples = 7168\n",
      "Number of features = 11\n"
     ]
    }
   ],
   "source": [
    "X_train = data.drop('target', axis=1).values            # This is the data matrix you already loaded (training data)\n",
    "y_train = data['target'].values                         # These are the target values encoded as categorical variables\n",
    "print ('Dimensions X_train=', X_train.shape, 'y_train=', y_train.shape)\n",
    "X_valid = data_io.read_as_df(basename, 'valid').values\n",
    "X_test = data_io.read_as_df(basename, 'test').values"
   ]
  },
  {
   "cell_type": "markdown",
   "metadata": {},
   "source": [
    "The initial classifier in your starting kit (in the sample_code directory)."
   ]
  },
  {
   "cell_type": "code",
   "execution_count": 14,
   "metadata": {
    "collapsed": false
   },
   "outputs": [],
   "source": [
    "import classifier\n",
    "reload(classifier)                               # If you make changes to your code you have to reload it\n",
    "from classifier import Classifier\n",
    "Classifier??"
   ]
  },
  {
   "cell_type": "markdown",
   "metadata": {},
   "source": [
    "Train, run, and save your classifier and your predictions. If you saved a trained model and/or prediction results, the evaluation script will look for those and use those in priority [(1) use saved predictions; (2) if no predictions, use saved model, do not retrain, just test; (3) if neither, train and test model from scratch]. Compute the predictions with predict_proba, this is more versatile."
   ]
  },
  {
   "cell_type": "code",
   "execution_count": 15,
   "metadata": {
    "collapsed": false
   },
   "outputs": [],
   "source": [
    "result_dir = 'res/'\n",
    "outname = result_dir + dataname\n",
    "clf = Classifier()\n",
    "clf.fit(X_train, y_train)"
   ]
  },
  {
   "cell_type": "code",
   "execution_count": 16,
   "metadata": {
    "collapsed": false,
    "scrolled": true
   },
   "outputs": [
    {
     "name": "stdout",
     "output_type": "stream",
     "text": [
      "res/crime_model.pickle\tres/crime_test.predict\tres/crime_valid.predict\r\n"
     ]
    }
   ],
   "source": [
    "Y_valid = clf.predict_proba(X_valid) \n",
    "Y_test = clf.predict_proba(X_test) \n",
    "clf.save(outname)\n",
    "#clf.load(outname) # Uncomment to check reloading works\n",
    "data_io.write(outname + '_valid.predict', Y_valid)\n",
    "data_io.write(outname + '_test.predict', Y_test)\n",
    "!ls $outname*"
   ]
  },
  {
   "cell_type": "markdown",
   "metadata": {},
   "source": [
    "Compute the training accuracy."
   ]
  },
  {
   "cell_type": "code",
   "execution_count": 17,
   "metadata": {
    "collapsed": false
   },
   "outputs": [
    {
     "name": "stdout",
     "output_type": "stream",
     "text": [
      "('Training accuracy = ', 0.99236653752708648)\n",
      "('Class labels=', array(['DRUG/NARCOTIC', 'LARCENY/THEFT', 'MISSING PERSON', 'PROSTITUTION',\n",
      "       'VEHICLE THEFT', 'WARRANTS'], dtype=object))\n",
      "('Confusion matrix [known in lines, predicted in columns]=\\n', array([[ 9191,     0,     0,     1,     1,     3],\n",
      "       [   21, 29432,     0,     0,     0,     0],\n",
      "       [    4,     0,  4376,     0,     0,     0],\n",
      "       [    2,     0,     1,  1343,     0,     0],\n",
      "       [    1,    14,     1,     0,  9254,     0],\n",
      "       [  305,    78,    11,    14,     8,  6855]]))\n"
     ]
    }
   ],
   "source": [
    "from sklearn.metrics import accuracy_score\n",
    "from sklearn.metrics import confusion_matrix\n",
    "# Directly predicts the (categorical) class labels\n",
    "y_predict = clf.predict(X_train)                   \n",
    "print ('Training accuracy = ', accuracy_score(y_train, y_predict))\n",
    "class_labels = clf.get_classes()     \n",
    "print ('Class labels=', class_labels)\n",
    "print ('Confusion matrix [known in lines, predicted in columns]=\\n',confusion_matrix(y_train, y_predict, class_labels))"
   ]
  },
  {
   "cell_type": "markdown",
   "metadata": {},
   "source": [
    "Compute cross-validation accuracy. This is usually worse than the training accuracy. Notice that we internally split the training data into training and validation set (this is because we do NOT have the labels of X_valid and X_test)."
   ]
  },
  {
   "cell_type": "code",
   "execution_count": 18,
   "metadata": {
    "collapsed": false
   },
   "outputs": [
    {
     "name": "stdout",
     "output_type": "stream",
     "text": [
      "('Fold', 1, 'validation accuracy = ', 0.60351960076170463)\n",
      "('Fold', 2, 'validation accuracy = ', 0.60296145511852384)\n"
     ]
    }
   ],
   "source": [
    "from sklearn.cross_validation import StratifiedShuffleSplit\n",
    "# This is just an example of 2-fold cross-validation\n",
    "skf = StratifiedShuffleSplit(y_train, n_iter=2, test_size=0.5, random_state=61)\n",
    "i=0\n",
    "for idx_t, idx_v in skf:\n",
    "    i=i+1\n",
    "    Xtr = X_train[idx_t]\n",
    "    Ytr = y_train[idx_t]\n",
    "    Xva = X_train[idx_v]\n",
    "    Yva = y_train[idx_v]\n",
    "    clf = Classifier()\n",
    "    clf.fit(Xtr, Ytr)\n",
    "    Y_predict = clf.predict(Xva)\n",
    "    print ('Fold', i, 'validation accuracy = ', accuracy_score(Y_predict, Yva))"
   ]
  },
  {
   "cell_type": "code",
   "execution_count": 19,
   "metadata": {
    "collapsed": false
   },
   "outputs": [
    {
     "name": "stdout",
     "output_type": "stream",
     "text": [
      "                precision    recall  f1-score   support\n",
      "\n",
      " DRUG/NARCOTIC       0.53      0.54      0.53      4598\n",
      " LARCENY/THEFT       0.74      0.72      0.73     14727\n",
      "MISSING PERSON       0.65      0.68      0.67      2190\n",
      "  PROSTITUTION       0.69      0.73      0.71       673\n",
      " VEHICLE THEFT       0.37      0.40      0.38      4635\n",
      "      WARRANTS       0.42      0.40      0.41      3635\n",
      "\n",
      "   avg / total       0.61      0.60      0.60     30458\n",
      "\n"
     ]
    }
   ],
   "source": [
    "from sklearn.metrics import classification_report  \n",
    "print(classification_report(Yva, Y_predict, target_names=class_labels))"
   ]
  },
  {
   "cell_type": "markdown",
   "metadata": {},
   "source": [
    "ADVANCED: Sklearn does not have multi-class metrics, this shows how libscore metrics work."
   ]
  },
  {
   "cell_type": "code",
   "execution_count": 20,
   "metadata": {
    "collapsed": false
   },
   "outputs": [
    {
     "name": "stdout",
     "output_type": "stream",
     "text": [
      "('Dimensions Y_train=', (60916, 6), 'Class labels=', array(['DRUG/NARCOTIC', 'LARCENY/THEFT', 'MISSING PERSON', 'PROSTITUTION',\n",
      "       'VEHICLE THEFT', 'WARRANTS'], dtype=object))\n",
      "('Training balanced accuracy = ', 0.74388515161893154)\n",
      "('Training probabilistic accuracy = ', -0.30482974669878365)\n",
      "('Training log loss = ', 6.8271708209345556)\n"
     ]
    }
   ],
   "source": [
    "import libscores\n",
    " \n",
    "# To evaluate results with multi-class metrics, the targets must be encoded as one vs. the rest\n",
    "Y_train, C = libscores.onehot(y_train)                                   \n",
    "print ('Dimensions Y_train=', Y_train.shape, 'Class labels=', C)\n",
    "#assert((class_labels==C).all()) # Just to make sure the labels of the classifier are in the right order\n",
    "# Note: if all went well, you should recover public_data/iris_train.solution\n",
    "# You had it all along, but to show you some nice plots we loaded the data as a data frame so we lost it!\n",
    "\n",
    "from libscores import bac_metric \n",
    "from libscores import pac_metric \n",
    "from libscores import log_loss\n",
    "# Predicts probabilities, a matrix patnum x classnum \n",
    "# As solution, you must use Y_train, not y_train\n",
    "y_predict_proba = clf.predict_proba(X_train)      \n",
    "print ('Training balanced accuracy = ', bac_metric(Y_train, y_predict_proba, task='multiclass.classification'))\n",
    "print ('Training probabilistic accuracy = ', pac_metric(Y_train, y_predict_proba, task='multiclass.classification'))\n",
    "print ('Training log loss = ', log_loss(Y_train, y_predict_proba, task='multiclass.classification'))"
   ]
  },
  {
   "cell_type": "code",
   "execution_count": 21,
   "metadata": {
    "collapsed": false
   },
   "outputs": [
    {
     "name": "stdout",
     "output_type": "stream",
     "text": [
      "(6,)\n"
     ]
    }
   ],
   "source": [
    "print(C.shape)"
   ]
  },
  {
   "cell_type": "markdown",
   "metadata": {},
   "source": [
    "## Unit testing"
   ]
  },
  {
   "cell_type": "markdown",
   "metadata": {},
   "source": [
    "It is <b><span style=\"color:red\">important that you test your submission files before submitting them</span></b>. All you have to do to make a submission is modify the file <code>classifier.py</code> in the <code>sample_code/</code> directory, then run this test to make sure everything works fine. This is the actual program that will be run on the server to test your submission.  The program looks for saved results and saved models in the subdirectory <code>res/</code>. If it finds them, it will use them: (1) If results are found, then are copied to the output directory; (2) If no results but a trained model is found, it is reloaded and no training occurs; (3) If nothing is found a fresh model is trained and tested."
   ]
  },
  {
   "cell_type": "code",
   "execution_count": 22,
   "metadata": {
    "collapsed": false,
    "scrolled": true
   },
   "outputs": [],
   "source": [
    "outdir = '../outputs'         # If you use result_dir as output directory, your submission will include your results\n",
    "datadir = 'public_data/'   "
   ]
  },
  {
   "cell_type": "markdown",
   "metadata": {},
   "source": [
    "Generate the submission file, by default, without the public_data in it and without the model, you can change the submission way by changing the call of my_zip in run.py"
   ]
  },
  {
   "cell_type": "code",
   "execution_count": 23,
   "metadata": {
    "collapsed": false
   },
   "outputs": [
    {
     "name": "stdout",
     "output_type": "stream",
     "text": [
      "Using input_dir: ../public_data\n",
      "Using output_dir: /home/pierre.schiltz/Mini projet/outputs\n",
      "WARNING: Inventory data - No data file found\n",
      "========= Zipping this directory to prepare for submit ==============\n",
      "resultonly\n",
      "See: ../sample_submission_17-02-28-17-24.zip\n",
      "[+] Done\n",
      "[+] Overall time spent  8.82 sec ::  Overall time budget  0.00 sec\n"
     ]
    }
   ],
   "source": [
    "!python run.py ../public_data ../outputs"
   ]
  },
  {
   "cell_type": "markdown",
   "metadata": {
    "collapsed": true
   },
   "source": [
    "## Making your submission\n",
    "\n",
    "The test program <code>run.py</code> prepares your <code>zip</code> file, ready to go. You find it in the directory above where you ran your program. For large datasets, we recommend that <b><span style=\"color:red\">you do NOT bundle the data with your submission</span></b>. The data directory is passed as an argument to run.py, and it is already there on the test server."
   ]
  },
  {
   "cell_type": "code",
   "execution_count": null,
   "metadata": {
    "collapsed": true
   },
   "outputs": [],
   "source": []
  },
  {
   "cell_type": "code",
   "execution_count": null,
   "metadata": {
    "collapsed": true
   },
   "outputs": [],
   "source": []
  }
 ],
 "metadata": {
  "anaconda-cloud": {},
  "kernelspec": {
   "display_name": "Python 2",
   "language": "python",
   "name": "python2"
  },
  "language_info": {
   "codemirror_mode": {
    "name": "ipython",
    "version": 2
   },
   "file_extension": ".py",
   "mimetype": "text/x-python",
   "name": "python",
   "nbconvert_exporter": "python",
   "pygments_lexer": "ipython2",
   "version": "2.7.11"
  }
 },
 "nbformat": 4,
 "nbformat_minor": 0
}
